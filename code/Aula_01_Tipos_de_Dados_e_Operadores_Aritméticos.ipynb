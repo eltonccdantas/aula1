{
  "nbformat": 4,
  "nbformat_minor": 0,
  "metadata": {
    "colab": {
      "provenance": []
    },
    "kernelspec": {
      "name": "python3",
      "display_name": "Python 3"
    }
  },
  "cells": [
    {
      "cell_type": "markdown",
      "metadata": {
        "id": "9ujEVvoCTM6p"
      },
      "source": [
        "<img src=\"https://www.cesar.school/wp-content/uploads/2019/09/marca_cesar_school.png\" alt=\"drawing\" width=\"200\"/>\n",
        "\n",
        "# Python - **Aula 01**\n",
        "\n",
        "---\n",
        "\n",
        "- Markdown\n",
        "- Entender conceitos básicos sobre programação;\n",
        "- Conhecer a linguagem Python;\n",
        "- Variáveis;\n",
        "- Tipos de dados;\n",
        "- Manipulação de strings."
      ]
    },
    {
      "cell_type": "markdown",
      "metadata": {
        "id": "5z6u_UB-KWiL"
      },
      "source": [
        "# Colab e Markdown\n",
        "\n",
        "O Colab possui dois tipos de células: **código** e **texto**.\n",
        "\n",
        "Nas células de código, você pode programar e executar os scripts usando Python.\n",
        "\n",
        "Nas células de texto é possível usar a linguagem de marcação [Markdown](https://daringfireball.net/projects/markdown/syntax). Você pode consultar alguns guias sobre o uso do Markdown nesses links:\n",
        "- https://colab.research.google.com/notebooks/markdown_guide.ipynb\n",
        "- https://docs.pipz.com/central-de-ajuda/learning-center/guia-basico-de-markdown#open"
      ]
    },
    {
      "cell_type": "markdown",
      "metadata": {
        "id": "L1rO4J92bWIu"
      },
      "source": [
        "# Introdução à variáveis\n",
        "\n",
        "Em termos técnicos, uma variável atribui um local de armazenamento na memória a um valor que está vinculado a um nome ou identificador simbólico. O nome da variável é usado para fazer referência a esse valor armazenado em um programa de computador."
      ]
    },
    {
      "cell_type": "code",
      "metadata": {
        "id": "gbAP6hlEbYeI"
      },
      "source": [
        "my_int = 103204934813"
      ],
      "execution_count": 2,
      "outputs": []
    },
    {
      "cell_type": "markdown",
      "metadata": {
        "id": "AVxtUEgYxRio"
      },
      "source": [
        "*   o nome da variável `my_int`\n",
        "*   o operador de atribuição, também conhecido como sinal de igual `=`\n",
        "*   o valor que está sendo vinculado ao nome da variável `103204934813`"
      ]
    },
    {
      "cell_type": "markdown",
      "metadata": {
        "id": "nKUGVOS2rW96"
      },
      "source": [
        "Em Python, a declaração de uma variável é feita apenas no momento de sua atribuição, não sendo necessário definir explicitamente seu tipo."
      ]
    },
    {
      "cell_type": "markdown",
      "metadata": {
        "id": "AFQKUYj3c1It"
      },
      "source": [
        "## Regras para criação de nomes de variáveis:\n",
        "\n",
        "- Não pode começar com número;\n",
        "- Não pode haver espaço (use `_`);\n",
        "- Não pode haver caracteres especiais: `\" ' , < > | / \\ ( ) @ ! # $ % ^ & * ~ - +`\n",
        "\n",
        "##Reatribuindo Variáveis"
      ]
    },
    {
      "cell_type": "code",
      "metadata": {
        "id": "S3sVtJ7aucvi"
      },
      "source": [
        "nome_composto = \"Gerson\"\n",
        "nome_composto = 20\n",
        "nome_composto = 50\n",
        "nome_composto = 29.4\n",
        "nome_composto = \"Novo Gerson\"\n",
        "nome_composto = 58.263725"
      ],
      "execution_count": 6,
      "outputs": []
    },
    {
      "cell_type": "markdown",
      "metadata": {
        "id": "ZCwnLtoO4X1t"
      },
      "source": [
        "# `print()`\n",
        "\n",
        "Exibe o valor de uma ou várias variáveis.\n",
        "\n",
        "```python\n",
        "print('exemplo')\n",
        "print('exemplo', 'vários', 'valores')\n",
        "print(variavel1, variavel2, variavel3)\n",
        "```\n"
      ]
    },
    {
      "cell_type": "code",
      "metadata": {
        "id": "COYy4k4i5lw7",
        "colab": {
          "base_uri": "https://localhost:8080/"
        },
        "outputId": "d4de1136-ea56-46d9-82a5-c3ecb353e549"
      },
      "source": [
        "print(\"Olá Mundo!\")\n",
        "print(nome_composto, my_int, 384, 19.5, \"Gerson\")\n",
        "print(my_int)"
      ],
      "execution_count": 11,
      "outputs": [
        {
          "output_type": "stream",
          "name": "stdout",
          "text": [
            "Olá Mundo!\n",
            "58.263725 103204934813 384 19.5 Gerson\n",
            "103204934813\n"
          ]
        }
      ]
    },
    {
      "cell_type": "markdown",
      "metadata": {
        "id": "UUnLyISHNT2K"
      },
      "source": [
        "##Atribuição múltipla\n",
        "\n",
        "Com Python, você pode atribuir um único valor a várias variáveis ​​ao mesmo tempo. Isso permite inicializar várias variáveis ​​de uma vez, que você mesmo pode reatribuir posteriormente no programa ou por meio da entrada do usuário.\n",
        "\n",
        "```python\n",
        "x = y = z = 0\n",
        "```\n",
        "\n",
        "Outra possibilidade, é atribuir vários valores diferentes para variáveis específicas.\n",
        "\n",
        "```python\n",
        "x, y, z = 10, 15, 20\n",
        "```"
      ]
    },
    {
      "cell_type": "code",
      "metadata": {
        "id": "HtUBkYLeNbgz",
        "colab": {
          "base_uri": "https://localhost:8080/"
        },
        "outputId": "104bcc60-c923-47c7-b742-4f965cd8070d"
      },
      "source": [
        "x = y = z = 0\n",
        "\n",
        "x = 0\n",
        "y = 0\n",
        "z = 0\n",
        "\n",
        "x, y, z = 10, 15, 20\n",
        "\n",
        "x = 10\n",
        "y = 15\n",
        "z = 20\n",
        "\n",
        "print(x)\n",
        "print(y)\n",
        "print(z)"
      ],
      "execution_count": 14,
      "outputs": [
        {
          "output_type": "stream",
          "name": "stdout",
          "text": [
            "10\n",
            "15\n",
            "20\n"
          ]
        }
      ]
    },
    {
      "cell_type": "markdown",
      "metadata": {
        "id": "WHLD7iQHzhc9"
      },
      "source": [
        "\n",
        "#Criação e impressão de strings\n",
        "\n",
        "Textos (strings) existem entre aspas simples `'` ou duplas `\"` em Python, portanto, para criar uma string, coloque uma sequência de caracteres em um ou outro.\n",
        "\n",
        "```python\n",
        "s1 = 'Esta é uma string entre aspas simples.'\n",
        "\n",
        "s2 = \"Esta é uma string entre aspas duplas.\"\n",
        "\n",
        "s3 = '''Essa é uma string\n",
        "entre aspas triplas'''\n",
        "```\n",
        "\n",
        "Podemos imprimir strings simplesmente chamando a função `print()`"
      ]
    },
    {
      "cell_type": "code",
      "metadata": {
        "id": "pT8v2fX3T0P_"
      },
      "source": [
        "s1 = 'Esta é uma string entre \"aspas\" simples.'\n",
        "\n",
        "s2 = \"Esta é uma string entre 'aspas' duplas.\"\n",
        "\n",
        "s3 = '''Essa é uma string\n",
        "entre aspas triplas simples'''\n",
        "\n",
        "s4 = \"\"\"Essa é uma string\n",
        "entre aspas triplas duplas\"\"\""
      ],
      "execution_count": null,
      "outputs": []
    },
    {
      "cell_type": "markdown",
      "metadata": {
        "id": "FfEWOwmhVLhE"
      },
      "source": [
        "## Sintaxe do comentário\n",
        "\n",
        "Para escrever comentários em Python usamos o caractere de hash `#`. Tudo o que estiver escrito a direita dele será ignorado até o fim da linha.\n",
        "\n",
        "```python\n",
        "# comentário de linha\n",
        "```\n",
        "\n",
        "É possível ainda escrever um bloco de comentário usando \"aspas triplas\":\n",
        "```python\n",
        "'''exemplo de\n",
        "comentário\n",
        "em várias linhas'''\n",
        "```\n"
      ]
    },
    {
      "cell_type": "markdown",
      "metadata": {
        "id": "W7GPfOkUwNgg"
      },
      "source": [
        "### Comentários inline\n",
        "Os comentários *inline* ocorrem na mesma linha de uma instrução, seguindo o próprio código.\n",
        "\n",
        "Geralmente, os comentários inline são assim:\n",
        "\n",
        "```python\n",
        "x = 8 # a variável x recebe 8 👍\n",
        "```"
      ]
    },
    {
      "cell_type": "code",
      "metadata": {
        "id": "I8hKONOyVQOw",
        "colab": {
          "base_uri": "https://localhost:8080/"
        },
        "outputId": "877208fd-bf91-4c3a-ed1b-5acc42a3ab7a"
      },
      "source": [
        "nome = \"Gerson\" # esta variavel armazena um nome\n",
        "print(nome)"
      ],
      "execution_count": 17,
      "outputs": [
        {
          "output_type": "stream",
          "name": "stdout",
          "text": [
            "Gerson\n"
          ]
        }
      ]
    },
    {
      "cell_type": "code",
      "metadata": {
        "id": "9BlI5KrMwkQ1",
        "colab": {
          "base_uri": "https://localhost:8080/"
        },
        "outputId": "d32b711c-8c81-448b-88b3-0dcac9e48ece"
      },
      "source": [
        "nome = \"Gerson\"\n",
        "\"\"\"\n",
        "esta variavel\n",
        "armazena um nome\n",
        "\"\"\"\n",
        "print(nome)"
      ],
      "execution_count": 16,
      "outputs": [
        {
          "output_type": "stream",
          "name": "stdout",
          "text": [
            "Gerson\n"
          ]
        }
      ]
    },
    {
      "cell_type": "markdown",
      "metadata": {
        "id": "WsXf_ireWQZd"
      },
      "source": [
        "# Tipos de dados\n",
        "\n",
        "É possível exibir os tipos de um valor ou variável usando a função `type()`.\n",
        "\n",
        "## Numéricos\n",
        "- `int` - Inteiros\n",
        "- `float` - Pontos Flutuantes\n",
        "\n",
        "## Texto\n",
        "- `str` - String\n",
        "\n",
        "## Booleano\n",
        "- `bool` - `True` ou `False`\n",
        "\n",
        "## Listas\n",
        "- `list` - [ ]\n",
        "\n",
        "## Sets\n",
        "- `set` - { }\n",
        "\n",
        "## Tuplas\n",
        "- `tuples` - ( )\n",
        "\n",
        "## Dicionários\n",
        "- `dictionary` - { }"
      ]
    },
    {
      "cell_type": "code",
      "metadata": {
        "id": "LrgPw5AZWYBY"
      },
      "source": [
        "inteiro = 28\n",
        "altura = 1.83\n",
        "texto = \"Olha só\"\n",
        "exemplo = \"10\"\n",
        "b1 = True\n",
        "b2 = False"
      ],
      "execution_count": null,
      "outputs": []
    },
    {
      "cell_type": "markdown",
      "metadata": {
        "id": "ziU9mBN7r3Bm"
      },
      "source": [
        "A flexibilidade da tipagem dinâmica é conseguência de duas estratégias implementadas na linguagem:\n",
        "- A primeira é conhecida como **Duck Typing**:\n",
        "> \"Se anda como pato, nada como um pato e faz quack como um pato, então provavelmente é um pato\"\n",
        "\n",
        "- A segunda é a abordagem **EAFP**:\n",
        "> \"*It is Easier to Ask for Forgiveness than Permission*\"\n",
        ">\n",
        "> \"É melhor pedir desculpas do que pedir permissão\"\n",
        ">\n",
        "> [Grace Hopper](https://en.wikipedia.org/wiki/Grace_Hopper)"
      ]
    },
    {
      "cell_type": "code",
      "source": [
        "# Exibir os tipos dos dados usando a função type()\n",
        "inteiro = 28\n",
        "print(type(inteiro))\n",
        "altura = 1.83\n",
        "print(type(altura))\n",
        "texto = \"Olha só\"\n",
        "print(type(texto))\n",
        "exemplo = \"10\"\n",
        "print(type(exemplo))\n",
        "b1 = True\n",
        "print(type(b1))\n",
        "b2 = False\n",
        "print(type(b2))"
      ],
      "metadata": {
        "colab": {
          "base_uri": "https://localhost:8080/"
        },
        "id": "0dsOeGX6uRzR",
        "outputId": "f74a08ce-e0f3-44e9-f611-5bb75d97609d"
      },
      "execution_count": 19,
      "outputs": [
        {
          "output_type": "stream",
          "name": "stdout",
          "text": [
            "<class 'int'>\n",
            "<class 'float'>\n",
            "<class 'str'>\n",
            "<class 'str'>\n",
            "<class 'bool'>\n",
            "<class 'bool'>\n"
          ]
        }
      ]
    },
    {
      "cell_type": "markdown",
      "metadata": {
        "id": "qf0JgZfioSeU"
      },
      "source": [
        "# Entrada de Dados\n",
        "Entrada de dados refere-se ao recebimento de informações do mundo externo para o meio digital.\n",
        "\n",
        "Em Python, pode ser feito usando a função `input()`.\n",
        "\n",
        "Sintaxe da função:\n",
        "\n",
        "```python\n",
        "variavel = input('mensagem opcional')\n",
        "```\n",
        "\n",
        "*Obs.: Os dados recebidos do input são sempre `str`.*"
      ]
    },
    {
      "cell_type": "code",
      "metadata": {
        "id": "0Ac7eUAxoaJB",
        "colab": {
          "base_uri": "https://localhost:8080/"
        },
        "outputId": "1b934344-c6c2-4370-9fea-181839b63ac3"
      },
      "source": [
        "entrada = input(\"Insira a sua idade: \")\n",
        "print(type(entrada))\n",
        "print(\"Valor inserido pelo usuário: \", entrada)"
      ],
      "execution_count": 22,
      "outputs": [
        {
          "output_type": "stream",
          "name": "stdout",
          "text": [
            "Insira a sua idade: 30\n",
            "<class 'str'>\n",
            "Valor inserido pelo usuário:  30\n"
          ]
        }
      ]
    },
    {
      "cell_type": "markdown",
      "metadata": {
        "id": "gJStn9uApEa4"
      },
      "source": [
        "#Funções para conversão de tipo\n",
        "\n",
        "Algumas vezes é necessário converter valores de um tipo para outro. Em Python, todos os tipos possuem contrutores que podem ser usados para **tentar** converter dados de um formato para outro.\n",
        "\n",
        "```python\n",
        "int()\n",
        "float()\n",
        "bool()\n",
        "str()\n",
        "```\n"
      ]
    },
    {
      "cell_type": "markdown",
      "metadata": {
        "id": "WLn0pnTqnBh3"
      },
      "source": [
        "##Convertendo os tipos de número"
      ]
    },
    {
      "cell_type": "code",
      "metadata": {
        "id": "ZCEYln4WsTL5",
        "colab": {
          "base_uri": "https://localhost:8080/"
        },
        "outputId": "ded12e44-758c-4521-a889-798a71f64b7c"
      },
      "source": [
        "# int → float\n",
        "num1 = 10\n",
        "num2 = float(num1)\n",
        "print(type(num1))\n",
        "print(type(num2))\n",
        "# float → int\n",
        "\n",
        "num4 = int(10.518726781)\n",
        "print(type(num4))\n",
        "print(\"int: \", num4)\n",
        "\n",
        "# bool → int\n",
        "# True = 1\n",
        "# False = 0\n",
        "num5 = int(False)\n",
        "print(type(num5))\n",
        "print(\"int: \", num5)\n",
        "\n",
        "# str → int\n",
        "\n",
        "num6 = int(\"56786\")\n",
        "print(type(num6))\n",
        "print(\"int: \", num6)\n",
        "\n",
        "# str → float\n",
        "\n",
        "num7 = float(\"56786.1873812\")\n",
        "print(type(num7))\n",
        "print(\"float: \", num7)\n",
        "\n",
        "# str → bool\n",
        "\n",
        "num8 = bool(\"True\")\n",
        "print(type(num8))\n",
        "print(\"bool: \", num8)\n",
        "\n",
        "# int → str\n",
        "\n",
        "num9 = str(1245)\n",
        "print(type(num9))\n",
        "print(\"string: \", num9)\n",
        "\n",
        "# float → str\n",
        "\n",
        "# bool → str\n"
      ],
      "execution_count": 37,
      "outputs": [
        {
          "output_type": "stream",
          "name": "stdout",
          "text": [
            "<class 'int'>\n",
            "<class 'float'>\n",
            "<class 'int'>\n",
            "int:  10\n",
            "<class 'int'>\n",
            "int:  0\n",
            "<class 'int'>\n",
            "int:  56786\n",
            "<class 'float'>\n",
            "float:  56786.1873812\n",
            "<class 'bool'>\n",
            "bool:  True\n",
            "<class 'str'>\n",
            "string:  1245\n"
          ]
        }
      ]
    },
    {
      "cell_type": "markdown",
      "metadata": {
        "id": "6fOqcWCyYMit"
      },
      "source": [
        "# Operações Aritméticas\n",
        "\n",
        "Em Python as 4 operações aritméticas básicas são feitas usando os tradicionais operadores `+`, `-`, `*` e `/`.\n",
        "\n",
        "- `x + y`:\tSoma de x e y\n",
        "- `x - y`:\tSubtração de x e y\n",
        "- `x * y`:\tMultiplicação de x e y\n",
        "- `x / y`:\tDivisão de x e y (gerando sempre um valor *float*)\n",
        "\n",
        "Os operadores de `+`  e `-` também podem ser usados para manipular o sinal do número:\n",
        "\n",
        "- `+x`:\tIdentidade de x\n",
        "- `-x`:\tSinal alterado de x\n",
        "\n",
        "Python também dispõe de outros operadores :\n",
        "\n",
        "- `x // y`:\tDivisão inteira de x e y\n",
        "- `x ** y`:\tx elevado a y\n",
        "- `x % y`:\tResto da divisão de x por y\n"
      ]
    },
    {
      "cell_type": "code",
      "metadata": {
        "id": "22HRvNH8YbN4",
        "colab": {
          "base_uri": "https://localhost:8080/"
        },
        "outputId": "331ce877-c8fb-4042-cb7e-c24ebc21f672"
      },
      "source": [
        "print(10 / 3)"
      ],
      "execution_count": 40,
      "outputs": [
        {
          "output_type": "stream",
          "name": "stdout",
          "text": [
            "3.3333333333333335\n"
          ]
        }
      ]
    },
    {
      "cell_type": "markdown",
      "metadata": {
        "id": "N5isIh00MSET"
      },
      "source": [
        "## Precedência aritmética\n",
        "\n",
        "A ordem das operações aritméticas em Python é semelhante a matemática e pode ser modificada com o uso de parênteses `()`\n",
        "\n",
        "A precedência aritmética em Python segue a ordem:\n",
        "1. `()`\n",
        "2. `**`\n",
        "3. `*`, `/` (*left-associative*)\n",
        "4. `+`, `-` (*left-associative*)\n",
        "\n",
        "```python\n",
        "2 + 10 * 10 - 5 # 97\n",
        "(2 + 10) * (10 - 5) # 60\n",
        "```"
      ]
    },
    {
      "cell_type": "code",
      "metadata": {
        "id": "oeCcf8PJCr-C",
        "colab": {
          "base_uri": "https://localhost:8080/"
        },
        "outputId": "81f3e1ca-552f-4171-ad84-c77bf3e3a314"
      },
      "source": [
        "2 + 10 * 10 - 5 # 97"
      ],
      "execution_count": 41,
      "outputs": [
        {
          "output_type": "execute_result",
          "data": {
            "text/plain": [
              "97"
            ]
          },
          "metadata": {},
          "execution_count": 41
        }
      ]
    },
    {
      "cell_type": "code",
      "source": [
        "(2 + 10) * (10 - 5) # 60"
      ],
      "metadata": {
        "colab": {
          "base_uri": "https://localhost:8080/"
        },
        "id": "pvlYjgyo0sXX",
        "outputId": "8d1757e7-e621-4717-bdd3-ec462b28b165"
      },
      "execution_count": 42,
      "outputs": [
        {
          "output_type": "execute_result",
          "data": {
            "text/plain": [
              "60"
            ]
          },
          "metadata": {},
          "execution_count": 42
        }
      ]
    },
    {
      "cell_type": "markdown",
      "metadata": {
        "id": "Ohy7mWPJRWbJ"
      },
      "source": [
        "##Operadores de atribuição\n",
        "\n",
        "Podem ser usados para incrementar ou decrementar um valor.\n",
        "\n",
        "* `+=` adiciona e atribui o valor\n",
        "* `-=` subtrai e atribui o valor\n",
        "* `*=` multiplica e atribui o valor\n",
        "* `/=` divide e atribui o valor\n",
        "* `//=` divide e depois atribuir o valor em inteiro\n",
        "* `**=` aumentar a potência e então atribuir o valor\n",
        "* `%=` retorna o resto da divisão e depois atribui o valor\n",
        "\n"
      ]
    },
    {
      "cell_type": "code",
      "metadata": {
        "id": "wASxPioUTGTA",
        "colab": {
          "base_uri": "https://localhost:8080/"
        },
        "outputId": "e88fc1c4-377d-423a-a856-1a1c3fe13fb3"
      },
      "source": [
        "num = 10\n",
        "num += 5\n",
        "# num = num + 5\n",
        "print(num)"
      ],
      "execution_count": 44,
      "outputs": [
        {
          "output_type": "stream",
          "name": "stdout",
          "text": [
            "15\n"
          ]
        }
      ]
    },
    {
      "cell_type": "markdown",
      "source": [
        "# `str`"
      ],
      "metadata": {
        "id": "cgAaunZIs2fI"
      }
    },
    {
      "cell_type": "markdown",
      "source": [
        "## str\n",
        "\n",
        "Em Python, textos são armazenados como uma sequência de caracteres [Unicode](https://pt.wikipedia.org/wiki/Unicode). Essa seguência, conhecida como **String** é representada no Python com o tipo `str`.\n",
        "\n",
        "[ASCII](https://www.ime.usp.br/~kellyrb/mac2166_2015/tabela_ascii.html)\n",
        "\n",
        "Ex.: `'Exemplo de Texto'`\n",
        "\n",
        "Por ser uma sequência, é possivel acessar cada caracter através de um índice. Além disso, o tipo `str` fornece uma variedade de métodos de manipulação desses caracteres.\n",
        "\n",
        "Para criar uma variável `str`, é possível usar aspas simples, duplas ou \"triplas\":"
      ],
      "metadata": {
        "id": "7B8t7hQ8s93h"
      }
    },
    {
      "cell_type": "code",
      "source": [
        "# Aspas simples\n",
        "print('🤌')\n",
        "\n",
        "# Aspas duplas\n",
        "\n",
        "\n",
        "# Aspas triplas*\n",
        "\n"
      ],
      "metadata": {
        "id": "nP3yAMSMtEnZ",
        "colab": {
          "base_uri": "https://localhost:8080/"
        },
        "outputId": "ef218a16-a697-44bb-bbb0-17a588860fab"
      },
      "execution_count": 46,
      "outputs": [
        {
          "output_type": "stream",
          "name": "stdout",
          "text": [
            "🤌\n"
          ]
        }
      ]
    },
    {
      "cell_type": "markdown",
      "source": [
        "## Caracteres de Escape\n",
        "\n",
        "São chamados de **caracteres de escape** marcadores usados para acessar caracteres do código Unicode. Para escreve-los, use `contra-barra + caractere`:\n",
        "\n",
        "| sintaxe | descrição |\n",
        "|---------|-----------|\n",
        "| `\\n` | Quebra de linha |\n",
        "| `\\t` | Tabulação |\n",
        "| `\\'` | Aspas simples |\n",
        "| `\\\"` | Aspas duplas |\n",
        "| `\\\\` | Contra-barra |\n",
        "\n",
        "> Obs.: A interpretação dos caracteres de escape pode ser \"desativada\" usando Raw Strings, marcadas com um `r` antes das aspas:\n",
        "```python\n",
        "text = r'Exemplo de texto\\nSem caracteres de escape'\n",
        "```"
      ],
      "metadata": {
        "id": "YAbAM1mftKVQ"
      }
    },
    {
      "cell_type": "code",
      "source": [
        "# caracteres de escape\n",
        "print('Meu irmão é muito \\'inteligente\\'')\n",
        "print(\"Meu irmão é muito 'inteligente'\")\n",
        "\n",
        "# r-strings\n",
        "print(r'Meu irmão é muito \\'inteligente\\' \\n nova linha')\n"
      ],
      "metadata": {
        "id": "0Jx38ObWtMtd",
        "colab": {
          "base_uri": "https://localhost:8080/"
        },
        "outputId": "8cb84014-b57e-497d-face-53cd66fe7980"
      },
      "execution_count": 51,
      "outputs": [
        {
          "output_type": "stream",
          "name": "stdout",
          "text": [
            "Meu irmão é muito 'inteligente'\n",
            "Meu irmão é muito 'inteligente'\n",
            "Meu irmão é muito \\'inteligente\\' \\n nova linha\n"
          ]
        }
      ]
    },
    {
      "cell_type": "markdown",
      "source": [
        "## Função embutida `len()`\n",
        "\n",
        "A função `len()` retorna a quantidade de itens dentro de um \"container\". Como as strings de Python são coleções de caracteres, a função `len()` quando recebe uma string, retorna a quantade de caracteres do texto.\n",
        "\n",
        "```python\n",
        "text = 'supercalifragilisticexpialidocious'\n",
        "print(len(text)) # 34\n",
        "```"
      ],
      "metadata": {
        "id": "3Bmr_tV_tU5K"
      }
    },
    {
      "cell_type": "code",
      "source": [
        "print(len(\"Gerson trabalha no CESAR!🤌\"))"
      ],
      "metadata": {
        "id": "lBCd0yB_tWNF",
        "colab": {
          "base_uri": "https://localhost:8080/"
        },
        "outputId": "132515f3-6b9a-4787-810c-f31ae1217781"
      },
      "execution_count": 55,
      "outputs": [
        {
          "output_type": "stream",
          "name": "stdout",
          "text": [
            "26\n"
          ]
        }
      ]
    },
    {
      "cell_type": "markdown",
      "source": [
        "## str.find()\n",
        "\n",
        "Retorna a posição de uma determinada substring procurada.\n",
        "\n",
        "Se o valor retornado for:\n",
        "- `>= 0` : Substring encontrado numa posição específica\n",
        "- `< 0` : Substring não encontrado"
      ],
      "metadata": {
        "id": "9bUca3vst5KF"
      }
    },
    {
      "cell_type": "code",
      "source": [
        "# grs@cesar.school\n",
        "# 0123456789..\n",
        "print(\"grs@cesar.school\".find(\"s\"))"
      ],
      "metadata": {
        "id": "rUfKhNxOt53B",
        "colab": {
          "base_uri": "https://localhost:8080/"
        },
        "outputId": "df0c0110-c77a-46a3-aea0-51eb92896790"
      },
      "execution_count": 63,
      "outputs": [
        {
          "output_type": "stream",
          "name": "stdout",
          "text": [
            "2\n"
          ]
        }
      ]
    },
    {
      "cell_type": "markdown",
      "source": [
        "## str.count()\n",
        "\n",
        "Retorna a quantidade de ocorrências de determinada substring."
      ],
      "metadata": {
        "id": "iBUNDW32uADS"
      }
    },
    {
      "cell_type": "code",
      "source": [
        "texto = \"grs@cesar.school\"\n",
        "print(texto.count(\"s\"))"
      ],
      "metadata": {
        "id": "HdEjM-buuA1Z",
        "colab": {
          "base_uri": "https://localhost:8080/"
        },
        "outputId": "da06a144-48cd-47a2-f548-87c182e2600c"
      },
      "execution_count": 65,
      "outputs": [
        {
          "output_type": "stream",
          "name": "stdout",
          "text": [
            "3\n"
          ]
        }
      ]
    },
    {
      "cell_type": "markdown",
      "source": [
        "## Operações com Strings\n",
        "\n",
        "> ⚠ Strings em Python são imutáveis, o que signifca que atribuir um valor a uma posição indexada irá resultar em um erro.\n",
        "\n",
        "Os seguintes operadores podem ser usados com strings:\n",
        "\n",
        "- `+` - Concatenação\n",
        "- `*` - Repetição"
      ],
      "metadata": {
        "id": "6N3v6Sk5uBSh"
      }
    },
    {
      "cell_type": "code",
      "source": [
        "texto = \"grs@cesar.school\"\n",
        "# texto[2] = \"z\" # não pode\n",
        "print(texto[2])\n",
        "\n",
        "print(\"homi\" + \" aranha\")\n",
        "\n",
        "print(\"miranha\" * 10)"
      ],
      "metadata": {
        "id": "MVL14xfpuGEz",
        "colab": {
          "base_uri": "https://localhost:8080/"
        },
        "outputId": "38651ce9-33f5-4e06-9ed6-f11e65dd7146"
      },
      "execution_count": 72,
      "outputs": [
        {
          "output_type": "stream",
          "name": "stdout",
          "text": [
            "s\n",
            "homi aranha\n",
            "miranhamiranhamiranhamiranhamiranhamiranhamiranhamiranhamiranhamiranha\n"
          ]
        }
      ]
    },
    {
      "cell_type": "markdown",
      "source": [
        "## str.lower() e str.upper()\n",
        "\n",
        "- `.lower()` - Retorna uma nova string com caracteres em minúsculo\n",
        "- `.upper()` - Retorna uma nova string com caracteres em maiúsculo"
      ],
      "metadata": {
        "id": "WCFR_7kxuK-c"
      }
    },
    {
      "cell_type": "code",
      "source": [
        "nome = \"Gerson\"\n",
        "print(nome.lower())\n",
        "print(nome.upper())"
      ],
      "metadata": {
        "id": "UKF-ZgHMuMmo",
        "colab": {
          "base_uri": "https://localhost:8080/"
        },
        "outputId": "70d6a780-0b96-4341-d01c-c89a1025d90c"
      },
      "execution_count": 75,
      "outputs": [
        {
          "output_type": "stream",
          "name": "stdout",
          "text": [
            "gerson\n",
            "GERSON\n"
          ]
        }
      ]
    },
    {
      "cell_type": "markdown",
      "source": [
        "## f-Strings\n",
        "\n",
        "> formatted string literals\n",
        "\n",
        "```python\n",
        "name = 'Gerson'\n",
        "print(f'Meu nome é {name}')\n",
        "```\n",
        "\n",
        "Mais detalhes sobre f-Strings [aqui](https://realpython.com/python-f-strings/)."
      ],
      "metadata": {
        "id": "69y6WkJcuQl5"
      }
    },
    {
      "cell_type": "code",
      "source": [
        "nome = \"Gerson\"\n",
        "valor = 50\n",
        "\n",
        "print(\"Meu nome é: \", nome, \", o Valor é: \", valor)\n",
        "print(\"Meu nome é: \" + nome + \", o Valor é: \" + str(valor))\n",
        "print(f\"Meu nome é: {nome}, o Valor é:  {valor}\")"
      ],
      "metadata": {
        "id": "M5NVWOYFuPt6",
        "colab": {
          "base_uri": "https://localhost:8080/"
        },
        "outputId": "c9e8a8f5-f0a1-44db-d9db-0424024f8feb"
      },
      "execution_count": 80,
      "outputs": [
        {
          "output_type": "stream",
          "name": "stdout",
          "text": [
            "Meu nome é:  Gerson , o Valor é:  50\n",
            "Meu nome é: Gerson, o Valor é: 50\n",
            "Meu nome é: Gerson, o Valor é:  50\n"
          ]
        }
      ]
    },
    {
      "cell_type": "markdown",
      "source": [
        "## str.split()\n",
        "\n",
        "Retorna uma lista de substrings dividido por um separador. Se nenhum parâmetro for passado, o separador (ou delimitador) adotado é o espaço em branco."
      ],
      "metadata": {
        "id": "rfLr3pt1uVC1"
      }
    },
    {
      "cell_type": "code",
      "source": [
        "numeros = '10 20 30'\n",
        "print(numeros.split())\n",
        "a, b, c = numeros.split()\n",
        "print(a, b, c)"
      ],
      "metadata": {
        "id": "H-aeW7gMuWYo",
        "colab": {
          "base_uri": "https://localhost:8080/"
        },
        "outputId": "a204551d-cf5e-4c14-e1ad-fdad6df3e3d4"
      },
      "execution_count": 85,
      "outputs": [
        {
          "output_type": "stream",
          "name": "stdout",
          "text": [
            "['10', '20', '30']\n",
            "10 20 30\n"
          ]
        }
      ]
    },
    {
      "cell_type": "markdown",
      "source": [
        "## str.replace()\n",
        "\n",
        "Retorna uma nova string com um texto substituído por outro.\n",
        "\n",
        "```python\n",
        "str.replace('old', 'new')\n",
        "```"
      ],
      "metadata": {
        "id": "ESVHNGimu1Bx"
      }
    },
    {
      "cell_type": "code",
      "source": [
        "txt = \"Geralt é um Witcher famoso.\"\n",
        "print(txt.replace(\"Geralt\", \"Geraldo\").replace(\"Witcher\", \"Bruxo\"))"
      ],
      "metadata": {
        "id": "9ZkQ5AbWu1rI",
        "colab": {
          "base_uri": "https://localhost:8080/"
        },
        "outputId": "6454e1ea-b870-475b-861c-32bb87127329"
      },
      "execution_count": 87,
      "outputs": [
        {
          "output_type": "stream",
          "name": "stdout",
          "text": [
            "Geraldo é um Bruxo famoso.\n"
          ]
        }
      ]
    },
    {
      "cell_type": "markdown",
      "metadata": {
        "id": "ALgn8jEOXI8m"
      },
      "source": [
        "# Exercícios Fundamentais"
      ]
    },
    {
      "cell_type": "markdown",
      "metadata": {
        "id": "ok07GRowFijR"
      },
      "source": [
        "1. Faça um programa que mostre a mensagem \"*Alô mundo*\" na tela"
      ]
    },
    {
      "cell_type": "code",
      "metadata": {
        "id": "E-tm-Ac-dkKI"
      },
      "source": [
        "print('Alô mundo')"
      ],
      "execution_count": null,
      "outputs": []
    },
    {
      "cell_type": "markdown",
      "metadata": {
        "id": "H9Xmh3n0dku7"
      },
      "source": [
        "2. Faça um programa que peça um número e então mostre a mensagem `O número informado foi [número]`."
      ]
    },
    {
      "cell_type": "code",
      "metadata": {
        "id": "oJxXXoQMePMm"
      },
      "source": [
        "num = input('Informe um numero: ')\n",
        "print('O numero informado foi:', num)"
      ],
      "execution_count": null,
      "outputs": []
    },
    {
      "cell_type": "markdown",
      "metadata": {
        "id": "Mc8ww-KEdndf"
      },
      "source": [
        "3. Faça um programa que peça dois números e imprima a soma."
      ]
    },
    {
      "cell_type": "code",
      "metadata": {
        "id": "SfwZe2zseO3m"
      },
      "source": [
        "num1 = int(input('Informe um numero: '))\n",
        "num2 = int(input('Informe outro numero: '))\n",
        "\n",
        "print('Soma', num1 + num2)"
      ],
      "execution_count": null,
      "outputs": []
    },
    {
      "cell_type": "markdown",
      "metadata": {
        "id": "MfVY2KazdpxA"
      },
      "source": [
        "4. Faça um programa que peça as 4 notas bimestrais e mostre a média."
      ]
    },
    {
      "cell_type": "code",
      "metadata": {
        "id": "B5dg4jyLeOV9"
      },
      "source": [
        "nota_1 = float(input(\"Digite a primeira nota: \"))\n",
        "nota_2 = float(input(\"Digite a segunda nota: \"))\n",
        "nota_3 = float(input(\"Digite a terceira nota: \"))\n",
        "nota_4 = float(input(\"Digite a quarta nota: \"))\n",
        "\n",
        "nota_final = (nota_1 + nota_2 + nota_3 + nota_4) / 4\n",
        "\n",
        "print('A média é', nota_final)"
      ],
      "execution_count": null,
      "outputs": []
    },
    {
      "cell_type": "markdown",
      "metadata": {
        "id": "GYPjRaE1dsEo"
      },
      "source": [
        "5. Faça um programa que converta metros para centímetros."
      ]
    },
    {
      "cell_type": "code",
      "metadata": {
        "id": "bDTpB4hxeOAS"
      },
      "source": [
        "metros = float(input(\"Digite o tamanho em metros: \"))\n",
        "\n",
        "centimentros = metros * 100\n",
        "\n",
        "print('Tamanho em centimetros é:', centimentros)"
      ],
      "execution_count": null,
      "outputs": []
    },
    {
      "cell_type": "markdown",
      "metadata": {
        "id": "Iw_6PGlvdt2P"
      },
      "source": [
        "6. Faça um programa que peça o raio de um círculo, calcule e mostre sua área."
      ]
    },
    {
      "cell_type": "code",
      "metadata": {
        "id": "S47z_TEaydiM"
      },
      "source": [
        "r = float(input('Digite o raio do círculo: '))\n",
        "pi = 3.14\n",
        "area = (r**2) * pi\n",
        "print('Area é ', area)"
      ],
      "execution_count": null,
      "outputs": []
    },
    {
      "cell_type": "code",
      "metadata": {
        "id": "QBB456-ceNox"
      },
      "source": [
        "import math\n",
        "\n",
        "r = float(input('Raio: '))\n",
        "area = math.pi * math.pow(r, 2)\n",
        "print(area)"
      ],
      "execution_count": null,
      "outputs": []
    },
    {
      "cell_type": "markdown",
      "metadata": {
        "id": "6WX2yHw8dvgh"
      },
      "source": [
        "7. Faça um programa que calcule a área de um quadrado, em seguida mostre o dobro desta área para o usuário."
      ]
    },
    {
      "cell_type": "code",
      "metadata": {
        "id": "bq1uTrxieNIi"
      },
      "source": [
        "lado = int(input('Digite o lado do quadrado: '))\n",
        "dobro_area = (lado**2)*2\n",
        "print(f\"Area é {dobro_area:.2f}\")"
      ],
      "execution_count": null,
      "outputs": []
    },
    {
      "cell_type": "markdown",
      "metadata": {
        "id": "OHtr_FwmdxNL"
      },
      "source": [
        "8. Faça um programa que pergunte quanto você ganha por hora e o número de horas trabalhadas no mês. Calcule e mostre o total do seu salário no referido mês."
      ]
    },
    {
      "cell_type": "code",
      "metadata": {
        "id": "r8eK89x0eMzi"
      },
      "source": [
        "salario = float (input('Qual o seu salário por hora: '))\n",
        "horas = float (input('Quantas horas você trabalhou no mês: ' ))\n",
        "\n",
        "print ('Seu salário total no refererido mês é de {} '.format(salario * horas))"
      ],
      "execution_count": null,
      "outputs": []
    },
    {
      "cell_type": "markdown",
      "metadata": {
        "id": "OTc5-XqodzSn"
      },
      "source": [
        "9. Faça um programa que peça a temperatura em graus Fahrenheit, transforme e mostre a temperatura em graus Celsius.\n",
        "\n",
        "  $ °C = 5 \\times ((°F-32) / 9) $\n"
      ]
    },
    {
      "cell_type": "code",
      "metadata": {
        "id": "bfkUM9cceMbv"
      },
      "source": [
        "f = float(input(\"Qual temperatura: \"))\n",
        "c = 5 * ((f-32)/9)\n",
        "print(f\"Temperatura é {c:.2f}\")"
      ],
      "execution_count": null,
      "outputs": []
    },
    {
      "cell_type": "markdown",
      "metadata": {
        "id": "E17ya82wd1rv"
      },
      "source": [
        "10. Faça um programa que peça a temperatura em graus Celsius, transforme e mostre em graus Fahrenheit.\n",
        "\n",
        "  $°F = (°C \\times 9 / 5) + 32 $"
      ]
    },
    {
      "cell_type": "code",
      "metadata": {
        "id": "5f6H4KPoeMBf"
      },
      "source": [
        "c = float(input(\"Qual temperatura: \"))\n",
        "f = c * 1.8 + 32\n",
        "print(f\"Temperatura é {f:.2f}\")"
      ],
      "execution_count": null,
      "outputs": []
    },
    {
      "cell_type": "markdown",
      "metadata": {
        "id": "gfkqRT1hd5Uq"
      },
      "source": [
        "11. Faça um programa que peça 2 números inteiros e um número real. Calcule e mostre:\n",
        "- O produto do dobro do primeiro com metade do segundo.\n",
        "- Soma do triplo do primeiro com o terceiro.\n",
        "- Terceiro elevado ao cubo."
      ]
    },
    {
      "cell_type": "code",
      "metadata": {
        "id": "U0LGrxCYeLbT"
      },
      "source": [
        "num1 = int(input('Digite o primeiro número inteiro: '))\n",
        "num2 = int(input('Digite o segundo número inteiro: '))\n",
        "num3 = float(input('Digite um número real: '))\n",
        "\n",
        "produto = (2 * num1) * (num2 / 2)\n",
        "soma = 3 * (num1 + num3)\n",
        "potencia_num = (num3**3)\n",
        "print(f'Produto: {produto} | Soma: {soma} | Potência Cúbica: {potencia_num}')"
      ],
      "execution_count": null,
      "outputs": []
    },
    {
      "cell_type": "markdown",
      "metadata": {
        "id": "GeccMwZid7LV"
      },
      "source": [
        "12. Tendo como dados de entrada a altura de uma pessoa, construa um algoritmo que calcule seu peso ideal em Kg usando a seguinte fórmula:\n",
        "\n",
        "  $ peso\\_ideal = (72.7 \\times altura) - 58 $"
      ]
    },
    {
      "cell_type": "code",
      "metadata": {
        "id": "KG7NZMI4eK-R"
      },
      "source": [
        "altura = float(input('Digite sua altura: '))\n",
        "peso = (72.7 * altura) - 58\n",
        "print(f\"Seu peso ideal é: {peso:.2f}\")"
      ],
      "execution_count": null,
      "outputs": []
    },
    {
      "cell_type": "markdown",
      "metadata": {
        "id": "TGfnvz6rd9Q3"
      },
      "source": [
        "13. Tendo como dado de entrada a altura ($h$) de uma pessoa, construa um algoritmo que calcule seu peso ideal, utilizando as seguintes fórmulas:\n",
        "- Para homens: $ (72.7 \\times h) - 58 $\n",
        "- Para mulheres: $ (62.1 \\times h) - 44.7 $"
      ]
    },
    {
      "cell_type": "code",
      "metadata": {
        "id": "OmLkbOULeKjQ"
      },
      "source": [
        "h = float(input('Digite sua altura: '))\n",
        "\n",
        "peso = (72.7 * altura) -58\n",
        "print(f\"O peso ideal para homem é: {peso:.2f}\")\n",
        "peso = (62.1 * altura) -44.7\n",
        "print(f\"O peso ideal para mulher é: {peso:.2f}\")"
      ],
      "execution_count": null,
      "outputs": []
    },
    {
      "cell_type": "markdown",
      "source": [
        "14. Escreva um programa que substitui as ocorrencias de um caractere 0 em uma string por outro caractere 1."
      ],
      "metadata": {
        "id": "Cr8RPYwnvM0p"
      }
    },
    {
      "cell_type": "code",
      "source": [
        "s = '010101'\n",
        "print(s.replace('0', '1'))"
      ],
      "metadata": {
        "id": "1pv1JvIRvNqs"
      },
      "execution_count": null,
      "outputs": []
    },
    {
      "cell_type": "markdown",
      "source": [
        "15. Faça um programa que receba do usuario uma string. O programa imprime a string sem suas vogais."
      ],
      "metadata": {
        "id": "zUyvVX7zvTZM"
      }
    },
    {
      "cell_type": "code",
      "source": [
        "txt = input('Insira a string: ')\n",
        "txt = txt.replace('a', '').replace('e', '').replace('i', '').replace('o', '').replace('u', '')\n",
        "\n",
        "print(txt)"
      ],
      "metadata": {
        "id": "4Wv_87d9vUCC"
      },
      "execution_count": null,
      "outputs": []
    },
    {
      "cell_type": "markdown",
      "metadata": {
        "id": "yeXJC3JHIsDV"
      },
      "source": [
        "# Exercícios complementares"
      ]
    },
    {
      "cell_type": "markdown",
      "metadata": {
        "id": "XH9X194beCpW"
      },
      "source": [
        "16. Faça um programa que pergunte quanto você ganha por hora e o número de horas trabalhadas no mês. Calcule e mostre o total do seu salário no referido mês, sabendo-se que são descontados 11% para o Imposto de Renda, 8% para o INSS e 5% para o sindicato, faça um programa que nos dê:\n",
        "    - salário bruto.\n",
        "    - quanto pagou ao INSS.\n",
        "    - quanto pagou ao sindicato.\n",
        "    - o salário líquido.\n",
        "    - calcule os descontos e o salário líquido, conforme a tabela abaixo:\n",
        "\n",
        "```\n",
        "            + Salário Bruto : R$\n",
        "            - IR (11%) : R$\n",
        "            - INSS (8%) : R$\n",
        "            - Sindicato ( 5%) : R$\n",
        "            = Salário Liquido : R$\n",
        "```\n",
        "> Obs.: Salário Bruto - Descontos = Salário Líquido.\n"
      ]
    },
    {
      "cell_type": "code",
      "metadata": {
        "id": "bTjIis6yeJDi"
      },
      "source": [
        "valor_hora = float (input('Digite qual o valor da sua hora de trabalho: '))\n",
        "carga_horaria = float (input('Digite quantas horas você trabalhou esse mês: '))\n",
        "salario_bruto = valor_hora * carga_horaria\n",
        "ir = salario_bruto * .11\n",
        "inss = salario_bruto * .08\n",
        "sindicato = salario_bruto * .05\n",
        "salario_liquido = salario_bruto - ir - inss - sindicato\n",
        "\n",
        "print('O total do seu salário bruto nesse mês foi de R$ {}'.format(salario_bruto))\n",
        "print('O total do valor recolhido para o IR nesse mês foi de R$ {}'.format(ir))\n",
        "print('O total do valor recolhido para o INSS nesse mês foi de R$ {}'.format(inss))\n",
        "print('O total do valor recolhido para o Sindicato nesse mês foi de R$ {}'.format(sindicato))\n",
        "print('O total do seu salário liquido nesse mês foi de R$ {}'.format(salario_liquido))"
      ],
      "execution_count": null,
      "outputs": []
    },
    {
      "cell_type": "markdown",
      "metadata": {
        "id": "nsH6ogQWeHGf"
      },
      "source": [
        "17. Faça um programa que peça o tamanho de um arquivo para download (em MB) e a velocidade de um link de Internet (em Mbps), calcule e informe o tempo aproximado de download do arquivo usando este link (em minutos)."
      ]
    },
    {
      "cell_type": "code",
      "metadata": {
        "id": "KfQCgryMeHsf"
      },
      "source": [
        "tamanho_arquivo = int(input('Digite quanto megabytes (MB) tem o arquivo para download: '))\n",
        "velocidade_link = int(input('Digite qual a velocidade do link de internet em Mbps: '))\n",
        "tempo_em_minutos = tamanho_arquivo / velocidade_link / 60\n",
        "print(f'O tempo aproximado de download do arquivo usado neste link é de {tempo_em_minutos} min')"
      ],
      "execution_count": null,
      "outputs": []
    },
    {
      "cell_type": "markdown",
      "metadata": {
        "id": "rUcxxTf6d_4G"
      },
      "source": [
        "18. João Papo-de-Pescador, homem de bem, comprou um microcomputador para controlar o rendimento diário de seu trabalho. Toda vez que ele traz um peso de peixes maior que o estabelecido pelo regulamento de pesca do estado de São Paulo (50 quilos) deve pagar uma multa de R\\$ 4,00 por quilo excedente. João precisa que você faça um programa que leia a variável peso (peso de peixes) e calcule o excesso. Gravar na variável excesso a quantidade de quilos além do limite e na variável multa o valor da multa que João deverá pagar. Imprima os dados do programa com as mensagens adequadas."
      ]
    },
    {
      "cell_type": "code",
      "metadata": {
        "id": "LacOhDYmeKAW"
      },
      "source": [
        "peso = float(input('Qual valor de peso de peixes: '))\n",
        "excesso = peso - 50\n",
        "if excesso > 0:\n",
        "  multa = excesso * 4\n",
        "  print(f\"João deve pagar R${multa:.2f} de multa\")\n",
        "else:\n",
        "  print(\"João não irá precisar pagar multa\")"
      ],
      "execution_count": null,
      "outputs": []
    },
    {
      "cell_type": "markdown",
      "metadata": {
        "id": "dQgoUp4FeEjs"
      },
      "source": [
        "19. Faça um programa para uma loja de tintas. O programa deverá pedir o tamanho em metros quadrados da área a ser pintada. Considere que a cobertura da tinta é de 1 litro para cada 3 metros quadrados e que a tinta é vendida em latas de 18 litros, que custam R\\$ 80,00. Informe ao usuário a quantidades de latas de tinta a serem compradas e o preço total. Obs.: somente são vendidos um número inteiro de latas."
      ]
    },
    {
      "cell_type": "code",
      "metadata": {
        "id": "BLgRrbqteIiY"
      },
      "source": [
        "# 1 litro de tinta --> 3 m²\n",
        "# 1 lata de tinta --> 18 L\n",
        "# 1 litro de tinta x lata de tinta --> 54 m²\n",
        "# 1 lata de tinta = R$ 80.00\n",
        "\n",
        "area_pintura = float (input('Digite quanto metros quadrados você deseja pintar: '))\n",
        "\n",
        "if area_pintura % 54 == 0:\n",
        "  qtd_latas = area_pintura//54\n",
        "else:\n",
        "  qtd_latas = area_pintura//54 + 1\n",
        "preco_total = qtd_latas*80\n",
        "print(f'Você precisará de {qtd_latas} latas. O valor total será de R$ {preco_total}'))"
      ],
      "execution_count": null,
      "outputs": []
    },
    {
      "cell_type": "markdown",
      "metadata": {
        "id": "aDlscibneF_-"
      },
      "source": [
        "20. Faça um Programa para uma loja de tintas. O programa deverá pedir o tamanho em metros quadrados da área a ser pintada. Considere que a cobertura da tinta é de 1 litro para cada 6 metros quadrados e que a tinta é vendida em latas de 18 litros, que custam R\\$ 80,00 ou em galões de 3,6 litros, que custam R\\$ 25,00.\n",
        "  - Informe ao usuário as quantidades de tinta a serem compradas e os respectivos preços em 3 situações:\n",
        "  - comprar apenas latas de 18 litros;\n",
        "  - comprar apenas galões de 3,6 litros;\n",
        "  - misturar latas e galões, de forma que o desperdício de tinta seja menor. Acrescente 10% de folga e sempre arredonde os valores para cima, isto é, considere latas cheias."
      ]
    },
    {
      "cell_type": "code",
      "metadata": {
        "id": "wH56ThFaeIOx"
      },
      "source": [
        "# Resolução\n",
        "\n",
        "# 1 litro de tinta --> 6 m²\n",
        "\n",
        "# 1 lata de tinta --> 18 L\n",
        "# 1 litro de tinta x lata de tinta --> 108 m²\n",
        "# 18L de tinta = R$ 80.00\n",
        "\n",
        "# 1 lata de tinta --> 3,6 L\n",
        "# 1 litro de tinta x lata de tinta --> 21,6 m²\n",
        "# 3,6L de tinta = R$ 25.00\n",
        "\n",
        "area_pintura = float (input('Digite quanto metros quadrados você deseja pintar: '))\n",
        "\n",
        "\n",
        "# Apenas com lata de 18L\n",
        "if area_pintura % 108 == 0:\n",
        "  qtd_latas = area_pintura//108\n",
        "else:\n",
        "  qtd_latas = area_pintura//108 + 1\n",
        "preco_total = qtd_latas*80\n",
        "print(f'Você precisará de {qtd_latas} latas. O valor total será de R$ {preco_total}')\n",
        "\n",
        "# Apenas com lata de 3.6L\n",
        "if area_pintura % 21.6 == 0:\n",
        "  qtd_latas = area_pintura//21.6\n",
        "else:\n",
        "  qtd_latas = area_pintura//21.6 + 1\n",
        "preco_total = qtd_latas*25\n",
        "print(f'Você precisará de {qtd_latas} latas. O valor total será de R$ {preco_total}')\n",
        "\n",
        "area_pintura*=.1\n",
        "lata_18 = area_pintura//108\n",
        "\n",
        "area_pintura = area_pintura - (lata_18*108)\n",
        "if area_pintura % 21.6 == 0:\n",
        "  lata_3 = area_pintura//21.6\n",
        "else:\n",
        "  lata_3 = area_pintura//21.6 + 1\n",
        "\n",
        "preco_total = lata_18*80 + lata_3*25\n",
        "\n",
        "print(f'Você precisará de {lata_18} latas de 18L e {lata_3} latas de 3.6L. O valor total será de R$ {preco_total}')\n"
      ],
      "execution_count": null,
      "outputs": []
    }
  ]
}